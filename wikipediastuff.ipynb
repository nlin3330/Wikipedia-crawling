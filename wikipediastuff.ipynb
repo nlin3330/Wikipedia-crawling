{
 "cells": [
  {
   "cell_type": "code",
   "execution_count": 3,
   "metadata": {
    "collapsed": false
   },
   "outputs": [],
   "source": [
    "import wikipedia\n",
    "import Queue\n",
    "import json"
   ]
  },
  {
   "cell_type": "code",
   "execution_count": null,
   "metadata": {
    "collapsed": true
   },
   "outputs": [],
   "source": [
    "class FifoQueue:\n",
    "    def __init__(self):\n",
    "        self.items = []\n",
    "        \n",
    "    def isEmpty(self):\n",
    "        if self.items:\n",
    "            return True\n",
    "        return False\n",
    "    \n",
    "    def push(self, item):\n",
    "        self.items.append(item)\n",
    "    \n",
    "    def pop(self):\n",
    "        return self.items.pop(0)\n",
    "    \n",
    "    def size(self):\n",
    "        return len(self.items)"
   ]
  },
  {
   "cell_type": "code",
   "execution_count": null,
   "metadata": {
    "collapsed": true
   },
   "outputs": [],
   "source": [
    "def bfs(start):\n",
    "    pagesVisited = set()\n",
    "    invalidLinks = set()\n",
    "    pagesToVisit = FifoQueue()\n",
    "    pagesToVisit.push(start)\n",
    "    while not pagesToVisit.isEmpty:\n",
    "        title = pagesToVisit.pop()\n",
    "        if title in pagesVisited or title in invalidLinks:\n",
    "            continue\n",
    "        try:\n",
    "            currentPage = wikipedia.WikipediaPage(title)\n",
    "            pagesVisited.add(title)\n",
    "            temp = {title:currentPage.links}\n",
    "            with open('data/'+title + '.json','w') as outfile:\n",
    "                json.dump(temp,outfile)\n",
    "            for link in currentPage.links:\n",
    "                if link not in pagesVisited:\n",
    "                    pagesToVisit.push(link)\n",
    "        except:\n",
    "            invalidLinks.add(title)\n",
    "            continue\n",
    "            \n",
    "    wikipediaPages = list(pagesVisited)\n",
    "    with open('wikipediaPages.json','w') as outfile:\n",
    "        json.dump(wikipediaPages,outfile)\n",
    "    "
   ]
  }
 ],
 "metadata": {
  "kernelspec": {
   "display_name": "Python 2",
   "language": "python",
   "name": "python2"
  },
  "language_info": {
   "codemirror_mode": {
    "name": "ipython",
    "version": 2
   },
   "file_extension": ".py",
   "mimetype": "text/x-python",
   "name": "python",
   "nbconvert_exporter": "python",
   "pygments_lexer": "ipython2",
   "version": "2.7.9"
  }
 },
 "nbformat": 4,
 "nbformat_minor": 0
}
